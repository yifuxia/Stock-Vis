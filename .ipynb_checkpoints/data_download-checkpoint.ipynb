{
 "cells": [
  {
   "cell_type": "code",
   "execution_count": 13,
   "metadata": {
    "collapsed": false
   },
   "outputs": [],
   "source": [
    "import webbrowser\n",
    "import time"
   ]
  },
  {
   "cell_type": "code",
   "execution_count": 3,
   "metadata": {
    "collapsed": true
   },
   "outputs": [],
   "source": [
    "components = ['AAPL','AXP','BA','CAT','CSCO','CVX','KO','DD','XOM','GE','GS',\n",
    "             'HD','IBM','INTC','JNJ','JPM','MCD','MMM','MRK','MSFT','NKE','PFE',\n",
    "              'PG','TRV','UNH','UTX','V','VZ','WMT','DIS']"
   ]
  },
  {
   "cell_type": "code",
   "execution_count": 14,
   "metadata": {
    "collapsed": false
   },
   "outputs": [],
   "source": [
    "for c in components:\n",
    "    url = \"http://chart.finance.yahoo.com/\"+'table'+\".csv?s=\"+c+\"&a=1&b=23&c=2016&d=1&e=23&f=2017&g=d&ignore=.csv\"\n",
    "    time.sleep(2)\n",
    "    webbrowser.open(url)"
   ]
  },
  {
   "cell_type": "code",
   "execution_count": 17,
   "metadata": {
    "collapsed": false
   },
   "outputs": [],
   "source": [
    "import re"
   ]
  },
  {
   "cell_type": "code",
   "execution_count": 23,
   "metadata": {
    "collapsed": false
   },
   "outputs": [],
   "source": [
    "import os\n",
    "for filename in os.listdir(\".\"):\n",
    "    if filename.startswith('table'):\n",
    "        if  len(re.findall('\\d+', filename)) == 0:\n",
    "            num = 0\n",
    "        else:\n",
    "            num = int(re.findall('\\d+', filename)[0])\n",
    "        os.rename(filename, components[num]+'.csv')"
   ]
  },
  {
   "cell_type": "code",
   "execution_count": null,
   "metadata": {
    "collapsed": true
   },
   "outputs": [],
   "source": []
  }
 ],
 "metadata": {
  "kernelspec": {
   "display_name": "Python 2",
   "language": "python",
   "name": "python2"
  },
  "language_info": {
   "codemirror_mode": {
    "name": "ipython",
    "version": 2
   },
   "file_extension": ".py",
   "mimetype": "text/x-python",
   "name": "python",
   "nbconvert_exporter": "python",
   "pygments_lexer": "ipython2",
   "version": "2.7.10"
  }
 },
 "nbformat": 4,
 "nbformat_minor": 0
}
